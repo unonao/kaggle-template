{
 "cells": [
  {
   "cell_type": "code",
   "execution_count": 1,
   "id": "116a23a6-2c3d-4da1-9a03-e8977528b65c",
   "metadata": {},
   "outputs": [
    {
     "name": "stdout",
     "output_type": "stream",
     "text": [
      "/kaggle/working\n"
     ]
    }
   ],
   "source": [
    "%cd /kaggle/working"
   ]
  },
  {
   "cell_type": "code",
   "execution_count": 5,
   "id": "bb7750da",
   "metadata": {},
   "outputs": [
    {
     "data": {
      "text/plain": [
       "Config(env=EnvConfig(input_dir='/kaggle/input', output_dir='/kaggle/working/output', exp_output_dir='/kaggle/working/output/experiments'), exp=ExpConfig(seed=7, learning_rate=0.001, batch_size=32))"
      ]
     },
     "execution_count": 5,
     "metadata": {},
     "output_type": "execute_result"
    }
   ],
   "source": [
    "from experiments.exp000_sample.run import Config\n",
    "\n",
    "cfg = Config()\n",
    "cfg"
   ]
  },
  {
   "cell_type": "code",
   "execution_count": 7,
   "id": "8926e091",
   "metadata": {},
   "outputs": [
    {
     "name": "stdout",
     "output_type": "stream",
     "text": [
      "exp_name='notebook/tmp', output_path=PosixPath('/kaggle/working/output/notebook/tmp')\n"
     ]
    }
   ],
   "source": [
    "from pathlib import Path\n",
    "import os\n",
    "\n",
    "exp_name = \"notebook/tmp\"\n",
    "output_path = Path(cfg.env.output_dir) / exp_name\n",
    "print(f\"{exp_name=}, {output_path=}\")\n",
    "os.makedirs(output_path, exist_ok=True)"
   ]
  }
 ],
 "metadata": {
  "kernelspec": {
   "display_name": "Python 3",
   "language": "python",
   "name": "python3"
  }
 },
 "nbformat": 4,
 "nbformat_minor": 5
}
